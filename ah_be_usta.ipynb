{
 "cells": [
  {
   "cell_type": "code",
   "execution_count": 174,
   "id": "f401c8b6",
   "metadata": {},
   "outputs": [
    {
     "name": "stdout",
     "output_type": "stream",
     "text": [
      "Pretty positive:  Systems developer\n",
      "------------------------------------\n",
      "Quite positive:   Energy engineer\n",
      "                  Materials engineer\n",
      "                  Materials engineer\n",
      "                  Structural engineer\n",
      "                  Broadcast engineer\n",
      "                  Manufacturing systems engineer\n",
      "                  Manufacturing systems engineer\n"
     ]
    }
   ],
   "source": [
    "import requests\n",
    "from bs4 import BeautifulSoup\n",
    "import pandas as pd\n",
    "import time\n",
    "\n",
    "url = \"https://realpython.github.io/fake-jobs/\"\n",
    "\n",
    "response = requests.get(url)\n",
    "\n",
    "soup = BeautifulSoup(response.content, 'html.parser')\n",
    "\n",
    "i = 0\n",
    "arr = []\n",
    "count = 0\n",
    "j = 0\n",
    "for box in soup.select('h2'):\n",
    "    element = soup.select('h2')[i].get_text()\n",
    "    arr.append(element)\n",
    "    i+=1\n",
    "    \n",
    "def OK(job):\n",
    "    if (job.find('developer')==-1):\n",
    "        return False\n",
    "    else:\n",
    "        return True\n",
    "def Probable(job):\n",
    "    if (job.find('engineer')==-1):\n",
    "        return False\n",
    "    else:\n",
    "        return True\n",
    "\n",
    "for appellation in arr:\n",
    "    if(OK(appellation)):\n",
    "        print('Pretty positive: ', appellation)\n",
    "print('-' * 36)\n",
    "for appellation in arr:\n",
    "    if(j==1):\n",
    "        if(Probable(appellation)):\n",
    "            print('Quite positive:  ', appellation)\n",
    "    else:\n",
    "         if(Probable(appellation)):\n",
    "            print('                 ', appellation)\n",
    "    j+=1"
   ]
  },
  {
   "cell_type": "code",
   "execution_count": null,
   "id": "52966404",
   "metadata": {},
   "outputs": [],
   "source": []
  }
 ],
 "metadata": {
  "kernelspec": {
   "display_name": "Python 3 (ipykernel)",
   "language": "python",
   "name": "python3"
  },
  "language_info": {
   "codemirror_mode": {
    "name": "ipython",
    "version": 3
   },
   "file_extension": ".py",
   "mimetype": "text/x-python",
   "name": "python",
   "nbconvert_exporter": "python",
   "pygments_lexer": "ipython3",
   "version": "3.9.12"
  }
 },
 "nbformat": 4,
 "nbformat_minor": 5
}
